{
 "cells": [
  {
   "cell_type": "code",
   "execution_count": 16,
   "metadata": {},
   "outputs": [],
   "source": [
    "# Import necessary packages\n",
    "import cv2 as cv\n",
    "import numpy as np\n",
    "import tensorflow as tf\n",
    "from tensorflow.keras import layers, models"
   ]
  },
  {
   "cell_type": "markdown",
   "metadata": {},
   "source": [
    "## Detect champion under HUB (without health bar)"
   ]
  },
  {
   "cell_type": "code",
   "execution_count": 17,
   "metadata": {},
   "outputs": [],
   "source": [
    "# Cut image under the HUB\n",
    "def cut_image(img):\n",
    "    crop = []\n",
    "    for i in range(5):\n",
    "        x_top = 720 + 95*i\n",
    "        x_bottom = 720 + 95 + 95*i\n",
    "        crop.append(img[60:180, x_top:x_bottom])\n",
    "    return np.asarray(crop) "
   ]
  },
  {
   "cell_type": "code",
   "execution_count": 18,
   "metadata": {},
   "outputs": [],
   "source": [
    "# Return bounding boxes under the HUB\n",
    "def return_box(img,res,loc_draw):\n",
    "    bb_extend = []\n",
    "    for i in range(5):\n",
    "        if res[i] == 1 and loc_draw[i] == True:\n",
    "            x_top = 720 + 95*i\n",
    "            bb_extend.append(x_top)\n",
    "    return bb_extend"
   ]
  },
  {
   "cell_type": "code",
   "execution_count": 19,
   "metadata": {},
   "outputs": [],
   "source": [
    "# Load model which used to detect cropped images \n",
    "def load_model_under_hub():\n",
    "    # load json and create model\n",
    "    json_file = open('models/model_under_hub.json', 'r')\n",
    "    loaded_model_json = json_file.read()\n",
    "    json_file.close()\n",
    "    loaded_model = models.model_from_json(loaded_model_json)\n",
    "    # load weights into new model\n",
    "    loaded_model.load_weights(\"models/model_under_hub.h5\")\n",
    "    return loaded_model\n",
    "def load_model_health_bar():\n",
    "    # load json and create model\n",
    "    json_file = open('models/model_health_bar.json', 'r')\n",
    "    loaded_model_json = json_file.read()\n",
    "    json_file.close()\n",
    "    loaded_model = models.model_from_json(loaded_model_json)\n",
    "    # load weights into new model\n",
    "    loaded_model.load_weights(\"models/model_health_bar.h5\")\n",
    "    return loaded_model\n",
    "def load_model_classes():\n",
    "    # load json and create model\n",
    "    json_file = open('models/model_classes.json', 'r')\n",
    "    loaded_model_json = json_file.read()\n",
    "    json_file.close()\n",
    "    loaded_model = models.model_from_json(loaded_model_json)\n",
    "    # load weights into new model\n",
    "    loaded_model.load_weights(\"models/model_classes.h5\")\n",
    "    return loaded_model"
   ]
  },
  {
   "cell_type": "code",
   "execution_count": 20,
   "metadata": {},
   "outputs": [],
   "source": [
    "# Combine all function to detect champion under the HUB\n",
    "def return_bb_extend(img,loc_draw,model):\n",
    "    crops = cut_image(img)\n",
    "    return return_box(img,model.predict_classes(crops),loc_draw)"
   ]
  },
  {
   "cell_type": "markdown",
   "metadata": {},
   "source": [
    "## Detect champion with health bar"
   ]
  },
  {
   "cell_type": "code",
   "execution_count": 21,
   "metadata": {},
   "outputs": [],
   "source": [
    "#  Solve 2 variable equation\n",
    "def solve_equation(A,B):\n",
    "    (x_1,y_1) = A\n",
    "    (x_2,y_2) = B\n",
    "    a = (y_1 - y_2)/(x_1 - x_2)\n",
    "    b = y_1 - a*x_1\n",
    "    return a,b"
   ]
  },
  {
   "cell_type": "code",
   "execution_count": 22,
   "metadata": {},
   "outputs": [],
   "source": [
    "# Return line equations\n",
    "def return_lines():\n",
    "    type_1 = []\n",
    "    type_2 = []\n",
    "    for i in range(7):\n",
    "        x_1 = 1292 - 131*i\n",
    "        x_2 = 1325 - 143*i\n",
    "        y_1 = 545\n",
    "        y_2 = 775\n",
    "        type_1.append(solve_equation((x_1,y_1),(x_2,y_2)))\n",
    "    for i in range(7):\n",
    "        x_1 = 1292 + int(131*0.5) - 131*i\n",
    "        x_2 = 1325 + int(143*0.5) - 143*i\n",
    "        y_1 = 545\n",
    "        y_2 = 775\n",
    "        type_2.append(solve_equation((x_1,y_1),(x_2,y_2)))\n",
    "    return (type_1,type_2)"
   ]
  },
  {
   "cell_type": "code",
   "execution_count": 23,
   "metadata": {},
   "outputs": [],
   "source": [
    "# Return type of champions\n",
    "def return_type(x,y,data):\n",
    "    (type_1,type_2) = data\n",
    "    dis_1 = np.zeros(len(type_1))\n",
    "    dis_2 = np.zeros(len(type_2))\n",
    "    for i,para in enumerate(type_1):\n",
    "        (a,b) = para\n",
    "        x_hat =  (y - b) / a\n",
    "        dis_1[i] = abs(x - x_hat)\n",
    "    for i,para in enumerate(type_2):\n",
    "        (a,b) = para\n",
    "        x_hat =  (y - b) / a\n",
    "        dis_2[i] = abs(x - x_hat)\n",
    "    return np.min(dis_1)<np.min(dis_2)"
   ]
  },
  {
   "cell_type": "code",
   "execution_count": 24,
   "metadata": {},
   "outputs": [],
   "source": [
    "def detect_item(img,x,y,w,h,model_health_bar):\n",
    "    crop = np.asarray([img[y:y+h, x:x+w]])\n",
    "    return model_health_bar.predict_classes(crop)[0]"
   ]
  },
  {
   "cell_type": "code",
   "execution_count": 25,
   "metadata": {},
   "outputs": [],
   "source": [
    "# Calculate the height of the bounding box\n",
    "def cal_height(x,y,w,h,data,img,t):\n",
    "    if h > 720 and h < 910:\n",
    "        return 910\n",
    "    if h <= 105:\n",
    "        return 180\n",
    "    h = h + 50 + (t==3)*10\n",
    "    if x < 560 and y >= 120 and y <= 175:\n",
    "        return 250\n",
    "    if h <= 720 or h > 105:\n",
    "        if (return_type(x + 0.5*w,h+30,data)):\n",
    "            type_1 = [690,520,370,250]\n",
    "            height = np.array(type_1)\n",
    "            height = height - h\n",
    "            height_list = type_1\n",
    "        else:\n",
    "            type_2 = [780,600,450,325]\n",
    "            height = np.array(type_2)\n",
    "            height = height - h\n",
    "            height_list = type_2\n",
    "        if height[height>0].shape[0] > 0:\n",
    "            return height_list[np.argmin(height[height>0])]\n",
    "        else:\n",
    "            return \"None\""
   ]
  },
  {
   "cell_type": "code",
   "execution_count": 26,
   "metadata": {},
   "outputs": [],
   "source": [
    "# Remove duplicate bounding box\n",
    "from scipy.spatial.distance import cdist\n",
    "def remove_bb(x,y,t,prob):\n",
    "    prob = np.array(prob)\n",
    "    m = len(x)\n",
    "    select = [i for i in range(m)]\n",
    "    result = []\n",
    "    A = np.array(np.vstack((x, y)).T)\n",
    "    matrix_A = np.array(A)\n",
    "    dis = cdist(matrix_A,matrix_A)\n",
    "    is_near = dis<10\n",
    "    for i in select:\n",
    "        cluster = np.where(is_near[i] == True)[0].tolist()\n",
    "        result.append(cluster[np.argmax(prob[cluster])])\n",
    "    result = list(dict.fromkeys(result))\n",
    "    return zip(np.array(x)[result],np.array(y)[result],np.array(t)[result])"
   ]
  },
  {
   "cell_type": "code",
   "execution_count": 27,
   "metadata": {},
   "outputs": [],
   "source": [
    "def create_dict():\n",
    "    dictionary = {}\n",
    "    with open(\"classes.txt\") as f:\n",
    "        content = f.readlines()\n",
    "    for i,line in enumerate(content):\n",
    "        dictionary[line[0:-1]] = i\n",
    "    return dictionary"
   ]
  },
  {
   "cell_type": "markdown",
   "metadata": {},
   "source": [
    "## Main"
   ]
  },
  {
   "cell_type": "code",
   "execution_count": 28,
   "metadata": {},
   "outputs": [],
   "source": [
    "def process(name,model_under_hub,model_health_bar,model_classes,data,champions):\n",
    "    img_rgb = cv.imread(\"images/\"+ name +\".png\")\n",
    "    img_rgb = cv.resize(img_rgb,(1920,1200))\n",
    "    img_gray = cv.cvtColor(img_rgb, cv.COLOR_BGR2GRAY)\n",
    "    img_copy = img_rgb.copy()\n",
    "\n",
    "    bound_boxes = []\n",
    "    prob = []\n",
    "    bbs_store = []\n",
    "    loc_draw =[True,True,True,True,True]\n",
    "\n",
    "    template = cv.imread('templates/tier1.png',0)\n",
    "    wo, ho = template.shape[::-1]\n",
    "    res = cv.matchTemplate(img_gray,template,cv.TM_CCORR_NORMED)\n",
    "    threshold = 0.92\n",
    "    loc_1 = np.where( res >= threshold)\n",
    "    loc_1_prob = res[np.where( res >= threshold)]\n",
    "    prob.extend(loc_1_prob)\n",
    "    for pt in zip(*loc_1[::-1]):\n",
    "        pt = list(pt)\n",
    "        pt.append(1)\n",
    "        bound_boxes.append(pt)\n",
    "        \n",
    "    template = cv.imread('templates/tier2.png',0)\n",
    "    wo, ho = template.shape[::-1]\n",
    "    res = cv.matchTemplate(img_gray,template,cv.TM_CCORR_NORMED)\n",
    "    threshold = 0.92\n",
    "    loc_2 = np.where( res >= threshold)\n",
    "    loc_2_prob = res[np.where( res >= threshold)]\n",
    "    prob.extend(loc_2_prob)\n",
    "    for pt in zip(*loc_2[::-1]):\n",
    "        pt = list(pt)\n",
    "        pt.append(2)\n",
    "        bound_boxes.append(pt)\n",
    "\n",
    "    template = cv.imread('templates/tier3.png',0)\n",
    "    wo, ho = template.shape[::-1]\n",
    "    res = cv.matchTemplate(img_gray,template,cv.TM_CCORR_NORMED)\n",
    "    threshold = 0.92\n",
    "    loc_3 = np.where( res >= threshold)\n",
    "    loc_3_prob = res[np.where( res >= threshold)]\n",
    "    prob.extend(loc_3_prob)\n",
    "    for pt in zip(*loc_3[::-1]):\n",
    "        pt = list(pt)\n",
    "        pt.append(3)\n",
    "        bound_boxes.append(pt) \n",
    "\n",
    "    cor = list(zip(*bound_boxes))\n",
    "    loc_x = list(cor[0])\n",
    "    loc_y = list(cor[1])\n",
    "    tier = list(cor[2])\n",
    "    bb = remove_bb(loc_x,loc_y,tier,prob)\n",
    "    \n",
    "    for pt in bb:\n",
    "        x = pt[0]-5\n",
    "        y = pt[1]-5\n",
    "        w = wo\n",
    "        i = detect_item(img_rgb,x,y+20,w,20,model_health_bar)\n",
    "        h = cal_height(x,y,w,pt[1] + ho + 20*i,data,img_rgb,pt[2])\n",
    "        \n",
    "        if h != \"None\":\n",
    "            if h == 180 and x > 720 and x < 1195:\n",
    "                h = h - pt[1]\n",
    "                cv.rectangle(img_copy, (x,y), (x + w, y + h), (0,0,255), 2)\n",
    "                loc = (x - 720) // 95 \n",
    "                loc_draw[loc] = False\n",
    "                crop = np.asarray([cv.resize(img_rgb[y+15+i*20:y+h, x:x+w],(80,120))])\n",
    "                champion = model_classes.predict_classes(crop/255)[0]\n",
    "                cv.putText(img_copy, champions[champion] + \" \" + str(pt[2]) + \"*\", (pt[0], pt[1]-10), cv.FONT_HERSHEY_SIMPLEX, 0.5, (36,255,12), 2)\n",
    "            else:  \n",
    "                h = h - pt[1]\n",
    "                cv.rectangle(img_copy, (x,y), (x + w, y + h), (0,0,255), 2)\n",
    "                crop = np.asarray([cv.resize(img_rgb[y+15+i*20:y+h, x:x+w],(80,120))])\n",
    "                champion = model_classes.predict_classes(crop/255)[0]\n",
    "                cv.putText(img_copy, champions[champion] + \" \" + str(pt[2]) + \"*\", (pt[0], pt[1]-10), cv.FONT_HERSHEY_SIMPLEX, 0.5, (36,255,12), 2)\n",
    "            \n",
    "    bb_extend = return_bb_extend(img_rgb,loc_draw,model_under_hub)\n",
    "    for x in bb_extend:\n",
    "        y = 60\n",
    "        w = 95\n",
    "        h = 120\n",
    "        i = detect_item(img_rgb,x + 47 - 42,y+20,84,20,model_health_bar)\n",
    "        cv.rectangle(img_copy, (x,y), (x + w, y + h), (0,0,255), 2)\n",
    "        crop = np.asarray([cv.resize(img_rgb[y+15+i*20:y+h, x:x+w],(80,120))])\n",
    "        champion = model_classes.predict_classes(crop/255)[0]\n",
    "        cv.putText(img_copy, champions[champion] + \" \", (x+5, y-10), cv.FONT_HERSHEY_SIMPLEX, 0.5, (36,255,12), 2)\n",
    "    \n",
    "    cv.imwrite(\"results/\"+name+\".png\",img_copy)\n",
    "#     cv.imwrite(\"debug.png\",img_copy)"
   ]
  },
  {
   "cell_type": "code",
   "execution_count": 29,
   "metadata": {},
   "outputs": [],
   "source": [
    "from os import listdir\n",
    "model_under_hub = load_model_under_hub()\n",
    "model_health_bar = load_model_health_bar()\n",
    "model_classes = load_model_classes()\n",
    "data = return_lines()\n",
    "champions = list(create_dict().keys())"
   ]
  },
  {
   "cell_type": "code",
   "execution_count": 30,
   "metadata": {},
   "outputs": [],
   "source": [
    "for name in listdir(\"images\"):\n",
    "    name = name[:-4]\n",
    "    process(name,model_under_hub,model_health_bar,model_classes,data,champions)"
   ]
  }
 ],
 "metadata": {
  "kernelspec": {
   "display_name": "Python 3",
   "language": "python",
   "name": "python3"
  },
  "language_info": {
   "codemirror_mode": {
    "name": "ipython",
    "version": 3
   },
   "file_extension": ".py",
   "mimetype": "text/x-python",
   "name": "python",
   "nbconvert_exporter": "python",
   "pygments_lexer": "ipython3",
   "version": "3.7.7"
  }
 },
 "nbformat": 4,
 "nbformat_minor": 4
}
